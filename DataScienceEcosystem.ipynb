{
 "cells": [
  {
   "cell_type": "markdown",
   "id": "a54d592c-8f1f-439c-bd11-348c71f725e2",
   "metadata": {},
   "source": [
    "# Data Science Tools and Ecosystem:"
   ]
  },
  {
   "cell_type": "markdown",
   "id": "d019c201-970a-4751-8956-3190338d7091",
   "metadata": {},
   "source": [
    "### In this Notebook, Data Science Tools and Ecosystem are summarized"
   ]
  },
  {
   "cell_type": "markdown",
   "id": "856cf9c1-6aa5-4199-b444-2f2fcb63e140",
   "metadata": {},
   "source": [
    "#### Some of the popular languages are:\n",
    "1. Python\n",
    "2. R\n",
    "3. Scala\n",
    "4. SQl"
   ]
  },
  {
   "cell_type": "markdown",
   "id": "d4a7942c-7bba-438e-8afd-34fae058555d",
   "metadata": {},
   "source": [
    "#### Some of commonly used libraries used by Data Scientist:\n",
    "1. Numpy\n",
    "2. Pandas\n",
    "3. Matplotlib"
   ]
  },
  {
   "cell_type": "markdown",
   "id": "6f9940d7-669a-4eb5-8795-281711056195",
   "metadata": {},
   "source": [
    "#### Data Science tools:\n",
    "1. Apache Spark\n",
    "2. Jupyter Notebook\n",
    "3. Jupyter Lab\n",
    "4. VS Code"
   ]
  },
  {
   "cell_type": "markdown",
   "id": "de8dd3e3-1ccb-4768-a3ce-9ab195bbb8e8",
   "metadata": {},
   "source": [
    "### Below are few examples of evaluating arithmetic expression in Python"
   ]
  },
  {
   "cell_type": "code",
   "execution_count": 1,
   "id": "28a11559-0ce8-44b5-bc24-f9b41601d36f",
   "metadata": {
    "tags": []
   },
   "outputs": [
    {
     "data": {
      "text/plain": [
       "17"
      ]
     },
     "execution_count": 1,
     "metadata": {},
     "output_type": "execute_result"
    }
   ],
   "source": [
    "#Executing example of Arithmetic Expression\n",
    "(3*4)+5"
   ]
  },
  {
   "cell_type": "code",
   "execution_count": 2,
   "id": "9158f4e5-bfd6-4fb1-9a98-27d0649bbf5c",
   "metadata": {
    "tags": []
   },
   "outputs": [
    {
     "data": {
      "text/plain": [
       "3.3333333333333335"
      ]
     },
     "execution_count": 2,
     "metadata": {},
     "output_type": "execute_result"
    }
   ],
   "source": [
    "#Converting 200 min into hours\n",
    "200/60"
   ]
  },
  {
   "cell_type": "markdown",
   "id": "4417aa95-4247-49d9-aab4-903dcec13fa1",
   "metadata": {},
   "source": [
    "#### Objectives:\n",
    "#### Langauges:\n",
    "1. Python\n",
    "2. R\n",
    "3. Scala \n",
    "4. SQL"
   ]
  },
  {
   "cell_type": "code",
   "execution_count": null,
   "id": "8474af72-4838-4275-80ad-073a9af6e063",
   "metadata": {},
   "outputs": [],
   "source": []
  }
 ],
 "metadata": {
  "kernelspec": {
   "display_name": "Python",
   "language": "python",
   "name": "conda-env-python-py"
  },
  "language_info": {
   "codemirror_mode": {
    "name": "ipython",
    "version": 3
   },
   "file_extension": ".py",
   "mimetype": "text/x-python",
   "name": "python",
   "nbconvert_exporter": "python",
   "pygments_lexer": "ipython3",
   "version": "3.7.12"
  }
 },
 "nbformat": 4,
 "nbformat_minor": 5
}
